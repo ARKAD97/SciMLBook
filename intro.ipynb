{
  "cells": [
    {
      "cell_type": "markdown",
      "metadata": {},
      "source": [
        "# Introduction to Parallel Computing\n",
        "\n",
        "There are two main branches of technical computing: machine learning and\n",
        "scientific computing. Machine learning has received a lot of hype over the\n",
        "last decade, with techniques such as convolutional neural networks and TSne\n",
        "nonlinear dimensional reductions powering a new generation of data-driven\n",
        "analytics. On the other hand, many scientific disciplines carry on with\n",
        "large-scale modeling through differential equation modeling, looking at\n",
        "stochastic differential equations and partial differential equations describing\n",
        "scientific laws.\n",
        "\n",
        "However, there has been a recent convergence of the two disciplines. This field,\n",
        "scientific machine learning, has been showcasing results like how partial\n",
        "differential equation simulations can be accelerated with neural networks.\n",
        "New methods, such as probabilistic and differentiable programming, have\n",
        "started to be developed specifically for enhancing the tools of this domain.\n",
        "However, the techniques in this field combine two huge areas of computational\n",
        "and numerical practice, meaning that the methods are sufficiently complex.\n",
        "How do you backpropagate an ODE defined by neural networks? How do you perform\n",
        "unsupervised learning of a scientific simulator?\n",
        "\n",
        "In this class we will dig into the methods and understand what they do, why\n",
        "they were made, and thus how to integrate numerical methods across fields to\n",
        "accentuate their pros while mitigating their cons. This class will be a survey\n",
        "of the numerical techniques, showcasing how many disciplines are doing the\n",
        "same thing under different names, and using a common mathematical language\n",
        "to derive efficient routines which capture both data-driven and mechanistic-based\n",
        "modeling.\n",
        "\n",
        "However, these methods will quickly run into a scaling issue if naively coded.\n",
        "To handle this problem, everything will have a focus on performance-engineering.\n",
        "We will start by focusing on algorithm which are inherently serial and\n",
        "learn to optimize serial code. Then we will showcase how logic-heavy\n",
        "code can be parallelized through multithreading and distributed computing\n",
        "techniques like MPI, while direct mathematical descriptions can be parallelized\n",
        "through GPU computing.\n",
        "\n",
        "The final part of the course will be a unique project which pulls together these\n",
        "techniques. As a new field, the students will be exposed to the \"low hanging\n",
        "fruit\" and will be directed towards an area which they can make a quick impact.\n",
        "For the final project, students will team up to solve a new problem in the field of\n",
        "scientific machine learning, and receive helping writing up a publication-quality\n",
        "analysis about their work.\n",
        "\n",
        "## Test Inserting Code\n",
        "\n",
        "Can we insert code from another file?\n"
      ],
      "id": "1f6a5792"
    },
    {
      "cell_type": "code",
      "metadata": {},
      "source": [
        "test(x) = x^x\n",
        "map(test, 1:4)"
      ],
      "id": "ae92fe60",
      "execution_count": null,
      "outputs": []
    },
    {
      "cell_type": "markdown",
      "metadata": {},
      "source": [
        "Yes we can!\n",
        "\n",
        "::: {.callout-tip}\n",
        "A couple of important things to remember when using computational includes:\n",
        "\n",
        "1. All computations still share a single engine (e.g. knitr or jupyter)\n",
        "1. Computational includes work only in `.qmd` files (they don’t work in `.ipynb` notebook files)\n",
        ":::"
      ],
      "id": "b9e733e7"
    }
  ],
  "metadata": {
    "kernelspec": {
      "name": "julia-1.8",
      "language": "julia",
      "display_name": "Julia 1.8.2"
    }
  },
  "nbformat": 4,
  "nbformat_minor": 5
}